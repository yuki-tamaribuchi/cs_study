{
  "nbformat": 4,
  "nbformat_minor": 0,
  "metadata": {
    "colab": {
      "name": "algorithm_methods.ipynb",
      "provenance": [],
      "collapsed_sections": [],
      "authorship_tag": "ABX9TyMWdFzaUWwL8r9jMv6skf9K",
      "include_colab_link": true
    },
    "kernelspec": {
      "name": "python3",
      "display_name": "Python 3"
    }
  },
  "cells": [
    {
      "cell_type": "markdown",
      "metadata": {
        "id": "view-in-github",
        "colab_type": "text"
      },
      "source": [
        "<a href=\"https://colab.research.google.com/github/yuki-tamaribuchi/cs_study/blob/master/algorithm_methods.ipynb\" target=\"_parent\"><img src=\"https://colab.research.google.com/assets/colab-badge.svg\" alt=\"Open In Colab\"/></a>"
      ]
    },
    {
      "cell_type": "markdown",
      "metadata": {
        "id": "6aXrgie7qvCa"
      },
      "source": [
        "#上智大学 情報工学概論\n",
        "https://www.miyamotolab.org/lectures/spring_summer/algorithms_and_data_structures"
      ]
    },
    {
      "cell_type": "markdown",
      "metadata": {
        "id": "Q9nWiTnDHKVt"
      },
      "source": [
        "##Circle Method"
      ]
    },
    {
      "cell_type": "code",
      "metadata": {
        "id": "5enk5-rEG-U3"
      },
      "source": [
        "def circle_method(x):\n",
        "  combinations={k:[] for k in x}\n",
        "  data_arr=x\n",
        "  data_length=len(x)\n",
        "\n",
        "  if data_length==0:\n",
        "    print('配列に要素がありません．')\n",
        "    return\n",
        "\n",
        "  elif data_length==1:\n",
        "    print('1つでは組み合わせが作れません．')\n",
        "    return\n",
        "\n",
        "  if data_length%2!=0:\n",
        "    print('データ数が奇数の場合にはまだ対応していません．')\n",
        "    return\n",
        "\n",
        "  for _ in range(data_length-1):\n",
        "    for j in range(data_length//2):      \n",
        "      combinations[data_arr[j]].append(data_arr[-j-1])\n",
        "      combinations[data_arr[-j-1]].append(data_arr[j])\n",
        "\n",
        "    data_arr=data_arr[1:data_length-1]+data_arr[:1]+[data_arr[data_length-1]]\n",
        "\n",
        "  return combinations\n",
        "\n",
        "#Created at 20210224"
      ],
      "execution_count": null,
      "outputs": []
    },
    {
      "cell_type": "markdown",
      "metadata": {
        "id": "A6PgdNtbN50w"
      },
      "source": [
        "###Example"
      ]
    },
    {
      "cell_type": "code",
      "metadata": {
        "id": "jqoqLZ-mv79p"
      },
      "source": [
        "import string\n",
        "aplhabets=string.ascii_uppercase\n",
        "x=[aplhabets[i] for i in range(10)]"
      ],
      "execution_count": null,
      "outputs": []
    },
    {
      "cell_type": "code",
      "metadata": {
        "colab": {
          "base_uri": "https://localhost:8080/"
        },
        "id": "SDW2F-3IwOik",
        "outputId": "14c57980-964f-412e-cb6a-34dff7f99085"
      },
      "source": [
        "circle_method(x)"
      ],
      "execution_count": null,
      "outputs": [
        {
          "output_type": "execute_result",
          "data": {
            "text/plain": [
              "{'A': ['J', 'C', 'E', 'G', 'I', 'B', 'D', 'F', 'H'],\n",
              " 'B': ['I', 'J', 'D', 'F', 'H', 'A', 'C', 'E', 'G'],\n",
              " 'C': ['H', 'A', 'J', 'E', 'G', 'I', 'B', 'D', 'F'],\n",
              " 'D': ['G', 'I', 'B', 'J', 'F', 'H', 'A', 'C', 'E'],\n",
              " 'E': ['F', 'H', 'A', 'C', 'J', 'G', 'I', 'B', 'D'],\n",
              " 'F': ['E', 'G', 'I', 'B', 'D', 'J', 'H', 'A', 'C'],\n",
              " 'G': ['D', 'F', 'H', 'A', 'C', 'E', 'J', 'I', 'B'],\n",
              " 'H': ['C', 'E', 'G', 'I', 'B', 'D', 'F', 'J', 'A'],\n",
              " 'I': ['B', 'D', 'F', 'H', 'A', 'C', 'E', 'G', 'J'],\n",
              " 'J': ['A', 'B', 'C', 'D', 'E', 'F', 'G', 'H', 'I']}"
            ]
          },
          "metadata": {
            "tags": []
          },
          "execution_count": 3
        }
      ]
    },
    {
      "cell_type": "markdown",
      "metadata": {
        "id": "BHYQJfEju0-6"
      },
      "source": [
        "#GeeksforGeeks - Algorithms\n",
        "https://www.geeksforgeeks.org/fundamentals-of-algorithms/?ref=shm#AnalysisofAlgorithms"
      ]
    },
    {
      "cell_type": "markdown",
      "metadata": {
        "id": "Y5wnWHdhQlIN"
      },
      "source": [
        "##Search"
      ]
    },
    {
      "cell_type": "markdown",
      "metadata": {
        "id": "SQA6L9WFDiv9"
      },
      "source": [
        "###Linear Search\n",
        "https://www.geeksforgeeks.org/linear-search/"
      ]
    },
    {
      "cell_type": "code",
      "metadata": {
        "id": "3BqQ1AZFvAt2"
      },
      "source": [
        "def linear_search(arr,x):\n",
        "  arr_length=len(arr)\n",
        "  if arr_length==0:\n",
        "    print('Given array is empty.')\n",
        "    return\n",
        "\n",
        "  for i in range(arr_length):\n",
        "    if arr[i]==x:\n",
        "      print('x is at [{}]'.format(i))\n",
        "      return i\n",
        "\n",
        "    if i==arr_length-1:\n",
        "      print('{} is not in given array'.format(x))\n",
        "      return None\n",
        "\n"
      ],
      "execution_count": null,
      "outputs": []
    },
    {
      "cell_type": "code",
      "metadata": {
        "colab": {
          "base_uri": "https://localhost:8080/"
        },
        "id": "Vvmu5iuMELuk",
        "outputId": "cd99def3-62b8-4ed1-cf2d-6e24a0946ad1"
      },
      "source": [
        "#driver code\n",
        "arr=[10, 20, 80, 30, 60, 50, 110, 100, 130, 170]\n",
        "\n",
        "x=60\n",
        "linear_search(arr,x)\n",
        "\n",
        "x=140\n",
        "linear_search(arr,x)\n",
        "\n",
        "arr=[]\n",
        "linear_search(arr,x)"
      ],
      "execution_count": null,
      "outputs": [
        {
          "output_type": "stream",
          "text": [
            "x is at [4]\n",
            "140 is not in given array\n",
            "Given array is empty.\n"
          ],
          "name": "stdout"
        }
      ]
    },
    {
      "cell_type": "markdown",
      "metadata": {
        "id": "bVooyAhcUHF3"
      },
      "source": [
        "###Binary Search\n",
        "https://www.geeksforgeeks.org/binary-search/"
      ]
    },
    {
      "cell_type": "code",
      "metadata": {
        "id": "nVUTmxThNqLE"
      },
      "source": [
        "def binary_search(arr,x,head,tail):\n",
        "  mid=1+(tail-head)//2\n",
        "\n",
        "  if head<tail:\n",
        "    if arr[mid]<x:\n",
        "      return binary_search(arr,x,mid+1,tail)\n",
        "    elif arr[mid]>x:\n",
        "      return binary_search(arr,x,head,mid-1)\n",
        "    else:\n",
        "      print('{} is at [{}]'.format(x,mid))\n",
        "      return mid\n",
        "  else:\n",
        "    print('{} is not in given array'.format(x))\n",
        "    return None"
      ],
      "execution_count": null,
      "outputs": []
    },
    {
      "cell_type": "code",
      "metadata": {
        "colab": {
          "base_uri": "https://localhost:8080/"
        },
        "id": "WvrqmfaZTNvE",
        "outputId": "11dddc9d-a54f-42fb-c6eb-74ad922ccd1a"
      },
      "source": [
        "#driver code\n",
        "arr = [ 2, 3, 4, 10, 40 ] \n",
        "\n",
        "x = 10\n",
        "print(binary_search(arr,x,0,len(arr)-1))\n",
        "\n",
        "x = 12\n",
        "binary_search(arr,x,0,len(arr)-1)"
      ],
      "execution_count": null,
      "outputs": [
        {
          "output_type": "stream",
          "text": [
            "3\n",
            "12 is not in given array\n"
          ],
          "name": "stdout"
        }
      ]
    },
    {
      "cell_type": "markdown",
      "metadata": {
        "id": "Tpx0D2aYXnfe"
      },
      "source": [
        "###Jump Search (unfinished)\n",
        "https://www.geeksforgeeks.org/jump-search/"
      ]
    },
    {
      "cell_type": "code",
      "metadata": {
        "id": "vPAFz3MEXt-w"
      },
      "source": [
        "def jump_search(arr,x):\n",
        "  import math\n",
        "\n",
        "  step=int(math.sqrt(len(arr)))\n",
        "  print('step is {}'.format(step))\n",
        "\n",
        "  for i in range(0,len(arr)-1,step):\n",
        "    "
      ],
      "execution_count": null,
      "outputs": []
    },
    {
      "cell_type": "code",
      "metadata": {
        "id": "Xd1K9DKQZHoR"
      },
      "source": [
        "arr = [ 0, 1, 1, 2, 3, 5, 8, 13, 21, 34, 55, 89, 144, 233, 377, 610 ] \n",
        "x = 40\n",
        "n = len(arr) \n",
        "\n",
        "jump_search(arr, x, n)"
      ],
      "execution_count": null,
      "outputs": []
    },
    {
      "cell_type": "markdown",
      "metadata": {
        "id": "Fze3q4ATqqCE"
      },
      "source": [
        "###Interpolation Search\n",
        "https://www.geeksforgeeks.org/interpolation-search/"
      ]
    },
    {
      "cell_type": "code",
      "metadata": {
        "id": "j7pvlrWQq-bg"
      },
      "source": [
        "def interpolation_search(arr,x,lo,hi):\n",
        "\n",
        "  if lo<hi:\n",
        "    pos=lo+(((x-arr[lo])*(hi-lo))//(arr[hi]-arr[lo]))\n",
        "    if ( x>=arr[lo] and arr[hi]>=x):\n",
        "      if arr[pos]<x:\n",
        "        return interpolation_search(arr,x,pos+1,hi)\n",
        "      elif arr[pos]>x:\n",
        "        return interpolation_search(arr,x,lo,pos-1)\n",
        "      else:\n",
        "        print('{} is at {}'.format(x,pos))\n",
        "        return pos\n",
        "\n",
        "  print('{} is not in given array'.format(x))\n",
        "  return"
      ],
      "execution_count": null,
      "outputs": []
    },
    {
      "cell_type": "code",
      "metadata": {
        "colab": {
          "base_uri": "https://localhost:8080/"
        },
        "id": "2ad2InsszPlS",
        "outputId": "d73d3cbb-db1d-454b-d74e-c19bced7403e"
      },
      "source": [
        "arr = [10, 12, 13, 16, 18, 19, 20, 21, 22, 23, 24, 33, 35, 42, 47]\n",
        "\n",
        "lo=0\n",
        "hi=len(arr)-1\n",
        "\n",
        "x=18\n",
        "interpolation_search(arr,x,lo,hi)\n",
        "\n",
        "x=30\n",
        "interpolation_search(arr,x,lo,hi)"
      ],
      "execution_count": null,
      "outputs": [
        {
          "output_type": "stream",
          "text": [
            "18 is at 4\n",
            "30 is not in given array\n"
          ],
          "name": "stdout"
        }
      ]
    },
    {
      "cell_type": "markdown",
      "metadata": {
        "id": "frJbeb6WQPe2"
      },
      "source": [
        "###Exponential Search\n",
        "https://www.geeksforgeeks.org/exponential-search/\n",
        "\n",
        "https://qiita.com/kgoto/items/e3cf4dc9a46ac6c0f190"
      ]
    },
    {
      "cell_type": "code",
      "metadata": {
        "id": "7dkRPNlRPxtu"
      },
      "source": [
        "def binary_search(arr,x,head,tail):\n",
        "  mid=1+(tail-head)//2\n",
        "\n",
        "  if head<tail:\n",
        "    if arr[mid]<x:\n",
        "      return binary_search(arr,x,mid+1,tail)\n",
        "    elif arr[mid]>x:\n",
        "      return binary_search(arr,x,head,mid-1)\n",
        "    else:\n",
        "      print('{} is at [{}]'.format(x,mid))\n",
        "      return mid\n",
        "  else:\n",
        "    print('{} is not in given array'.format(x))\n",
        "    return None\n",
        "\n",
        "\n",
        "\n",
        "def exponential_search(arr,x,n):\n",
        "  i=1\n",
        "\n",
        "  while i<n and arr[i]<x:\n",
        "    i=i*2\n",
        "  \n",
        "  return binary_search(arr,x,i,i*2)"
      ],
      "execution_count": null,
      "outputs": []
    },
    {
      "cell_type": "code",
      "metadata": {
        "colab": {
          "base_uri": "https://localhost:8080/"
        },
        "id": "2FOz-R2GFPqf",
        "outputId": "5b845624-2258-437d-ac60-1e0f022e833a"
      },
      "source": [
        "arr = [2, 3, 4, 10, 40]\n",
        "x = 10\n",
        "\n",
        "exponential_search(arr,x,len(arr))"
      ],
      "execution_count": null,
      "outputs": [
        {
          "output_type": "stream",
          "text": [
            "10 is at [3]\n"
          ],
          "name": "stdout"
        },
        {
          "output_type": "execute_result",
          "data": {
            "text/plain": [
              "3"
            ]
          },
          "metadata": {
            "tags": []
          },
          "execution_count": 21
        }
      ]
    },
    {
      "cell_type": "markdown",
      "metadata": {
        "id": "VZB28qlYMxNT"
      },
      "source": [
        "###Ternary Search\n",
        "https://www.geeksforgeeks.org/binary-search-preferred-ternary-search/"
      ]
    },
    {
      "cell_type": "code",
      "metadata": {
        "id": "1aNy40rFQpwe"
      },
      "source": [
        "def ternary_search(arr,x,head,tail):\n",
        "  if head<=tail:\n",
        "    mid1=head+((tail-head)//3)\n",
        "    mid2=mid1+((tail-head)//3)\n",
        "\n",
        "    if arr[mid1]==x:\n",
        "      print('{} is at [{}]'.format(x,mid1))\n",
        "      return mid1\n",
        "\n",
        "    if arr[mid2]==x:\n",
        "      print('{} is at [{}]'.format(x,mid2))\n",
        "      return mid2\n",
        "\n",
        "    if arr[mid1]>x:\n",
        "      return ternary_search(arr,x,head,mid1-1)\n",
        "    \n",
        "    if arr[mid2]<x:\n",
        "      return ternary_search(arr,x,mid2+1,tail)\n",
        "    \n",
        "    return ternary_search(arr,x,mid1+1,mid2-1)\n",
        "  else:\n",
        "    print('{} is no in given array'.format(x))\n",
        "    return"
      ],
      "execution_count": null,
      "outputs": []
    },
    {
      "cell_type": "code",
      "metadata": {
        "colab": {
          "base_uri": "https://localhost:8080/"
        },
        "id": "5DUQDGnHR1lC",
        "outputId": "f4c310c7-5b72-48cd-ddae-f3f9787bd358"
      },
      "source": [
        "arr = [ 2, 3, 4, 10, 40 ] \n",
        "\n",
        "x = 10\n",
        "ternary_search(arr,x,0,len(arr))"
      ],
      "execution_count": null,
      "outputs": [
        {
          "output_type": "stream",
          "text": [
            "10 is at [3]\n"
          ],
          "name": "stdout"
        },
        {
          "output_type": "execute_result",
          "data": {
            "text/plain": [
              "3"
            ]
          },
          "metadata": {
            "tags": []
          },
          "execution_count": 40
        }
      ]
    },
    {
      "cell_type": "markdown",
      "metadata": {
        "id": "YAo77s-qOH3f"
      },
      "source": [
        "##Sort"
      ]
    },
    {
      "cell_type": "markdown",
      "metadata": {
        "id": "sCULA8N1OLQP"
      },
      "source": [
        "###Selection Sort\n",
        "https://www.geeksforgeeks.org/selection-sort/"
      ]
    },
    {
      "cell_type": "code",
      "metadata": {
        "id": "axnWktO5OPJA"
      },
      "source": [
        "def selection_sort(arr):\n",
        "\n",
        "  n=len(arr)\n",
        "\n",
        "  if n==0:\n",
        "    print('Empty')\n",
        "    return\n",
        "  elif n==1:\n",
        "    return arr\n",
        "\n",
        "  for i in range(n-1):\n",
        "    min_index=i\n",
        "\n",
        "    for j in range(i+1,n):\n",
        "\n",
        "      if arr[j]<arr[min_index]:\n",
        "        min_index=j\n",
        "\n",
        "    arr[i],arr[min_index]=arr[min_index],arr[i]\n",
        "\n",
        "  return arr"
      ],
      "execution_count": null,
      "outputs": []
    },
    {
      "cell_type": "code",
      "metadata": {
        "colab": {
          "base_uri": "https://localhost:8080/"
        },
        "id": "SCnFjJASQhlx",
        "outputId": "4876150f-0164-48de-e7f8-b8b734e72a88"
      },
      "source": [
        "A = [64, 25, 12, 22, 11] \n",
        "\n",
        "selection_sort(A)"
      ],
      "execution_count": null,
      "outputs": [
        {
          "output_type": "execute_result",
          "data": {
            "text/plain": [
              "[11, 12, 22, 25, 64]"
            ]
          },
          "metadata": {
            "tags": []
          },
          "execution_count": 20
        }
      ]
    },
    {
      "cell_type": "markdown",
      "metadata": {
        "id": "9u1o3aX7orYN"
      },
      "source": [
        "###Bubble Sort\n",
        "https://www.geeksforgeeks.org/bubble-sort/"
      ]
    },
    {
      "cell_type": "code",
      "metadata": {
        "id": "qIC0hGxzoxGl"
      },
      "source": [
        "def bubble_sort(arr):\n",
        "  n=len(arr)\n",
        "\n",
        "  for i in range(n-1):\n",
        "    for j in range(n-1):\n",
        "      if arr[j+1]<arr[j]:\n",
        "        arr[j],arr[j+1]=arr[j+1],arr[j]\n",
        "  return arr"
      ],
      "execution_count": null,
      "outputs": []
    },
    {
      "cell_type": "code",
      "metadata": {
        "colab": {
          "base_uri": "https://localhost:8080/"
        },
        "id": "rm5OWkV1rKCx",
        "outputId": "e1b0aab5-78c0-41d7-d027-ddd21d56f9b5"
      },
      "source": [
        "arr = [64, 34, 25, 12, 22, 11, 90] \n",
        "  \n",
        "bubble_sort(arr) "
      ],
      "execution_count": null,
      "outputs": [
        {
          "output_type": "execute_result",
          "data": {
            "text/plain": [
              "[11, 12, 22, 25, 34, 64, 90]"
            ]
          },
          "metadata": {
            "tags": []
          },
          "execution_count": 18
        }
      ]
    },
    {
      "cell_type": "markdown",
      "metadata": {
        "id": "eFrnxkwktu8A"
      },
      "source": [
        "###Insertion Sort\n",
        "https://www.geeksforgeeks.org/insertion-sort/"
      ]
    },
    {
      "cell_type": "code",
      "metadata": {
        "id": "ekOPz9-Xt1fQ"
      },
      "source": [
        "def insertion_sort(arr):\n",
        "  n=len(arr)\n",
        "\n",
        "  for i in range(1,n):\n",
        "    key=arr[i]\n",
        "\n",
        "    j=i-1\n",
        "    while j>=0 and key<arr[j]:\n",
        "      arr[j+1]=arr[j]\n",
        "      j-=1\n",
        "    arr[j+1]=key\n",
        "      \n",
        "\n",
        "  return arr"
      ],
      "execution_count": null,
      "outputs": []
    },
    {
      "cell_type": "code",
      "metadata": {
        "colab": {
          "base_uri": "https://localhost:8080/"
        },
        "id": "ZrlQBirk5Ag0",
        "outputId": "09849049-83ae-470c-d9f8-1b3208a1ad89"
      },
      "source": [
        "arr = [12, 11, 13, 5, 6]\n",
        "insertion_sort(arr)"
      ],
      "execution_count": null,
      "outputs": [
        {
          "output_type": "execute_result",
          "data": {
            "text/plain": [
              "[5, 6, 11, 12, 13]"
            ]
          },
          "metadata": {
            "tags": []
          },
          "execution_count": 80
        }
      ]
    },
    {
      "cell_type": "markdown",
      "metadata": {
        "id": "PmcRQZEfAVf1"
      },
      "source": [
        "###Merge Sort\n",
        "https://www.geeksforgeeks.org/merge-sort/"
      ]
    },
    {
      "cell_type": "code",
      "metadata": {
        "id": "-g-777RjIME_"
      },
      "source": [
        "def merge_sort(arr):\n",
        "\n",
        "  if len(arr)>1:\n",
        "    mid=len(arr)//2\n",
        "\n",
        "    arr_left=arr[:mid]\n",
        "    arr_right=arr[mid:]\n",
        "\n",
        "    merge_sort(arr_left)\n",
        "    merge_sort(arr_right)\n",
        "\n",
        "    i=j=k=0\n",
        "\n",
        "    while i <len(arr_left) and j<len(arr_right):\n",
        "      if arr_left[i]<arr_right[j]:\n",
        "        arr[k]=arr_left[i]\n",
        "        i+=1\n",
        "      else:\n",
        "        arr[k]=arr_right[j]\n",
        "        j+=1\n",
        "\n",
        "      k+=1\n",
        "\n",
        "    while i<len(arr_left):\n",
        "      arr[k]=arr_left[i]\n",
        "      i+=1\n",
        "      k+=1\n",
        "    while j<len(arr_right):\n",
        "      arr[k]=arr_right[j]\n",
        "      j+=1\n",
        "      k+=1\n",
        "\n",
        "  return arr"
      ],
      "execution_count": null,
      "outputs": []
    },
    {
      "cell_type": "code",
      "metadata": {
        "colab": {
          "base_uri": "https://localhost:8080/"
        },
        "id": "E69u72f9LA5E",
        "outputId": "9eea589a-e6d5-411b-a008-475bb3d4d266"
      },
      "source": [
        "arr = [ 12, 11, 13, 5, 6, 7 ]\n",
        "merge_sort(arr)"
      ],
      "execution_count": null,
      "outputs": [
        {
          "output_type": "execute_result",
          "data": {
            "text/plain": [
              "[5, 6, 7, 11, 12, 13]"
            ]
          },
          "metadata": {
            "tags": []
          },
          "execution_count": 27
        }
      ]
    },
    {
      "cell_type": "markdown",
      "metadata": {
        "id": "sIKCKtlmQzcF"
      },
      "source": [
        "###Heap Sort (Unfinished)\n",
        "https://www.geeksforgeeks.org/heap-sort/"
      ]
    },
    {
      "cell_type": "code",
      "metadata": {
        "id": "IQ4nRKvtQ4yi"
      },
      "source": [
        "def binary_heap(arr):\n",
        "  #0 1 2 34 56 78910 11121314\n",
        "\n",
        "\n",
        "def heap_sort(arr):\n",
        "\n",
        "  def parent(idx):\n",
        "    return (idx-1)//2\n",
        "\n",
        "  #arr=binary_heap(arr)\n",
        "\n",
        "  smallest=arr[0]\n",
        "\n",
        "  arr=arr[1:]\n",
        "\n",
        "  tmp_idx=len(arr)-1\n",
        "\n",
        "  if tmp_idx>0:\n",
        "    arr[0],arr[tmp_idx]=arr[tmp_idx],arr[0]\n",
        "    \n",
        "    arr[tmp_idx]"
      ],
      "execution_count": null,
      "outputs": []
    },
    {
      "cell_type": "code",
      "metadata": {
        "id": "O2iqyYjDeCn8"
      },
      "source": [
        ""
      ],
      "execution_count": null,
      "outputs": []
    },
    {
      "cell_type": "markdown",
      "metadata": {
        "id": "lNbGvV-xn8IK"
      },
      "source": [
        "###Quick Sort\n",
        "https://www.geeksforgeeks.org/quick-sort/"
      ]
    },
    {
      "cell_type": "code",
      "metadata": {
        "id": "k6OSMcLJn-xo"
      },
      "source": [
        "def partition(arr,low,high):\n",
        "  pivot=arr[high]\n",
        "\n",
        "  i=(low-1)\n",
        "  for j in range(low,high):\n",
        "    if arr[j]<pivot:\n",
        "      i=i+1\n",
        "      arr[j],arr[i]=arr[i],arr[j]\n",
        "  arr[i+1],arr[high]=arr[high],arr[i+1]\n",
        "  return i+1\n",
        "\n",
        "def quick_sort(arr,low,high):\n",
        "  if low<high:\n",
        "    pi=partition(arr,low,high)\n",
        "\n",
        "    quick_sort(arr,low,pi-1)\n",
        "    quick_sort(arr,pi+1,high)\n",
        "\n",
        "  return arr"
      ],
      "execution_count": null,
      "outputs": []
    },
    {
      "cell_type": "markdown",
      "metadata": {
        "id": "tEBiy9b_8AWw"
      },
      "source": [
        "###Radix Sort (Unfinished)\n",
        "https://www.geeksforgeeks.org/radix-sort/"
      ]
    },
    {
      "cell_type": "code",
      "metadata": {
        "id": "ci7oIwMNrvHn"
      },
      "source": [
        "def counting_sort(arr,exp1):\n",
        "  n=len(arr)\n",
        "  output=[0]*n\n",
        "  count=[0]*(10)\n",
        "\n",
        "  for i in range(0,n):\n",
        "    index=(arr[i]/exp1)\n",
        "    count[int(index%10)]+=1\n",
        "\n",
        "  for i in range(1,10):\n",
        "    count[i]+=count[i-1]\n",
        "\n",
        "  i=n-1\n",
        "  while i>=0:\n",
        "    index=(arr[i]/exp1)\n",
        "    output[count[int(index%10)]-1]=arr[i]\n",
        "    count[int(index%10)]-=1\n",
        "    i-=1\n",
        "\n",
        "  for i in range(0,n):\n",
        "    arr[i]=output[i]\n",
        "\n",
        "\n",
        "def radix_sort(arr):\n",
        "  max1=max(arr)\n",
        "\n",
        "  exp=1\n",
        "  while max1/exp>0:\n",
        "    counting_sort(arr,exp)\n",
        "    exp *=10\n",
        "\n",
        "  return arr"
      ],
      "execution_count": null,
      "outputs": []
    },
    {
      "cell_type": "code",
      "metadata": {
        "colab": {
          "base_uri": "https://localhost:8080/"
        },
        "id": "ywA9ICX4tmpB",
        "outputId": "31835339-a55b-4db4-d1a3-922ca0aa353c"
      },
      "source": [
        "arr = [170, 45, 75, 90, 802, 24, 2, 66] \n",
        "\n",
        "radix_sort(arr)"
      ],
      "execution_count": null,
      "outputs": [
        {
          "output_type": "execute_result",
          "data": {
            "text/plain": [
              "[2, 24, 45, 66, 75, 90, 170, 802]"
            ]
          },
          "metadata": {
            "tags": []
          },
          "execution_count": 12
        }
      ]
    },
    {
      "cell_type": "markdown",
      "metadata": {
        "id": "4C-O_jSF-9WV"
      },
      "source": [
        "###Counting Sort\n",
        "https://www.geeksforgeeks.org/counting-sort/"
      ]
    },
    {
      "cell_type": "code",
      "metadata": {
        "id": "nJcK1PaL_AnL"
      },
      "source": [
        "def counting_sort(arr):\n",
        "  output=[0 for i in range(len(arr))]\n",
        "\n",
        "  count=[0 for i in ragne(256)]\n",
        "\n",
        "  ans=['' for _ in arr]"
      ],
      "execution_count": null,
      "outputs": []
    },
    {
      "cell_type": "code",
      "metadata": {
        "colab": {
          "base_uri": "https://localhost:8080/"
        },
        "id": "tD39kvyn4Od7",
        "outputId": "14895d6f-53da-49f4-e551-bfa6b32024f9"
      },
      "source": [
        "arr = [10, 7, 8, 9, 1, 5]\n",
        "\n",
        "quick_sort(arr,0,len(arr)-1)"
      ],
      "execution_count": null,
      "outputs": [
        {
          "output_type": "execute_result",
          "data": {
            "text/plain": [
              "[1, 5, 7, 8, 9, 10]"
            ]
          },
          "metadata": {
            "tags": []
          },
          "execution_count": 13
        }
      ]
    }
  ]
}