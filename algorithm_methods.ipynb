{
  "nbformat": 4,
  "nbformat_minor": 0,
  "metadata": {
    "colab": {
      "name": "algorithm_methods.ipynb",
      "provenance": [],
      "collapsed_sections": [],
      "authorship_tag": "ABX9TyNFUenSYZS3GpkctO+sY3nb",
      "include_colab_link": true
    },
    "kernelspec": {
      "name": "python3",
      "display_name": "Python 3"
    }
  },
  "cells": [
    {
      "cell_type": "markdown",
      "metadata": {
        "id": "view-in-github",
        "colab_type": "text"
      },
      "source": [
        "<a href=\"https://colab.research.google.com/github/yuki-tamaribuchi/cs_study/blob/master/algorithm_methods.ipynb\" target=\"_parent\"><img src=\"https://colab.research.google.com/assets/colab-badge.svg\" alt=\"Open In Colab\"/></a>"
      ]
    },
    {
      "cell_type": "markdown",
      "metadata": {
        "id": "6aXrgie7qvCa"
      },
      "source": [
        "#上智大学 情報工学概論\n",
        "https://www.miyamotolab.org/lectures/spring_summer/algorithms_and_data_structures"
      ]
    },
    {
      "cell_type": "markdown",
      "metadata": {
        "id": "Q9nWiTnDHKVt"
      },
      "source": [
        "##Circle Method"
      ]
    },
    {
      "cell_type": "code",
      "metadata": {
        "id": "5enk5-rEG-U3"
      },
      "source": [
        "def circle_method(x):\n",
        "  combinations={k:[] for k in x}\n",
        "  data_arr=x\n",
        "  data_length=len(x)\n",
        "\n",
        "  if data_length==0:\n",
        "    print('配列に要素がありません．')\n",
        "    return\n",
        "\n",
        "  elif data_length==1:\n",
        "    print('1つでは組み合わせが作れません．')\n",
        "    return\n",
        "\n",
        "  if data_length%2!=0:\n",
        "    print('データ数が奇数の場合にはまだ対応していません．')\n",
        "    return\n",
        "\n",
        "  for _ in range(data_length-1):\n",
        "    for j in range(data_length//2):      \n",
        "      combinations[data_arr[j]].append(data_arr[-j-1])\n",
        "      combinations[data_arr[-j-1]].append(data_arr[j])\n",
        "\n",
        "    data_arr=data_arr[1:data_length-1]+data_arr[:1]+[data_arr[data_length-1]]\n",
        "\n",
        "  return combinations\n",
        "\n",
        "#Created at 20210224"
      ],
      "execution_count": null,
      "outputs": []
    },
    {
      "cell_type": "markdown",
      "metadata": {
        "id": "A6PgdNtbN50w"
      },
      "source": [
        "###Example"
      ]
    },
    {
      "cell_type": "code",
      "metadata": {
        "id": "jqoqLZ-mv79p"
      },
      "source": [
        "import string\n",
        "aplhabets=string.ascii_uppercase\n",
        "x=[aplhabets[i] for i in range(10)]"
      ],
      "execution_count": null,
      "outputs": []
    },
    {
      "cell_type": "code",
      "metadata": {
        "colab": {
          "base_uri": "https://localhost:8080/"
        },
        "id": "SDW2F-3IwOik",
        "outputId": "14c57980-964f-412e-cb6a-34dff7f99085"
      },
      "source": [
        "circle_method(x)"
      ],
      "execution_count": null,
      "outputs": [
        {
          "output_type": "execute_result",
          "data": {
            "text/plain": [
              "{'A': ['J', 'C', 'E', 'G', 'I', 'B', 'D', 'F', 'H'],\n",
              " 'B': ['I', 'J', 'D', 'F', 'H', 'A', 'C', 'E', 'G'],\n",
              " 'C': ['H', 'A', 'J', 'E', 'G', 'I', 'B', 'D', 'F'],\n",
              " 'D': ['G', 'I', 'B', 'J', 'F', 'H', 'A', 'C', 'E'],\n",
              " 'E': ['F', 'H', 'A', 'C', 'J', 'G', 'I', 'B', 'D'],\n",
              " 'F': ['E', 'G', 'I', 'B', 'D', 'J', 'H', 'A', 'C'],\n",
              " 'G': ['D', 'F', 'H', 'A', 'C', 'E', 'J', 'I', 'B'],\n",
              " 'H': ['C', 'E', 'G', 'I', 'B', 'D', 'F', 'J', 'A'],\n",
              " 'I': ['B', 'D', 'F', 'H', 'A', 'C', 'E', 'G', 'J'],\n",
              " 'J': ['A', 'B', 'C', 'D', 'E', 'F', 'G', 'H', 'I']}"
            ]
          },
          "metadata": {
            "tags": []
          },
          "execution_count": 3
        }
      ]
    },
    {
      "cell_type": "markdown",
      "metadata": {
        "id": "BHYQJfEju0-6"
      },
      "source": [
        "#GeeksforGeeks - Algorithms\n",
        "https://www.geeksforgeeks.org/fundamentals-of-algorithms/?ref=shm#AnalysisofAlgorithms"
      ]
    },
    {
      "cell_type": "markdown",
      "metadata": {
        "id": "SQA6L9WFDiv9"
      },
      "source": [
        "##Linear Search\n",
        "https://www.geeksforgeeks.org/linear-search/"
      ]
    },
    {
      "cell_type": "code",
      "metadata": {
        "id": "3BqQ1AZFvAt2"
      },
      "source": [
        "def linear_search(arr,x):\n",
        "  arr_length=len(arr)\n",
        "  if arr_length==0:\n",
        "    print('Given array is empty.')\n",
        "    return\n",
        "\n",
        "  for i in range(arr_length):\n",
        "    if arr[i]==x:\n",
        "      print('x is at [{}]'.format(i))\n",
        "      return i\n",
        "\n",
        "    if i==arr_length-1:\n",
        "      print('{} is not in given array'.format(x))\n",
        "      return None\n",
        "\n"
      ],
      "execution_count": null,
      "outputs": []
    },
    {
      "cell_type": "code",
      "metadata": {
        "colab": {
          "base_uri": "https://localhost:8080/"
        },
        "id": "Vvmu5iuMELuk",
        "outputId": "cd99def3-62b8-4ed1-cf2d-6e24a0946ad1"
      },
      "source": [
        "#driver code\n",
        "arr=[10, 20, 80, 30, 60, 50, 110, 100, 130, 170]\n",
        "\n",
        "x=60\n",
        "linear_search(arr,x)\n",
        "\n",
        "x=140\n",
        "linear_search(arr,x)\n",
        "\n",
        "arr=[]\n",
        "linear_search(arr,x)"
      ],
      "execution_count": null,
      "outputs": [
        {
          "output_type": "stream",
          "text": [
            "x is at [4]\n",
            "140 is not in given array\n",
            "Given array is empty.\n"
          ],
          "name": "stdout"
        }
      ]
    },
    {
      "cell_type": "markdown",
      "metadata": {
        "id": "bVooyAhcUHF3"
      },
      "source": [
        "##Binary Search\n",
        "https://www.geeksforgeeks.org/binary-search/"
      ]
    },
    {
      "cell_type": "code",
      "metadata": {
        "id": "nVUTmxThNqLE"
      },
      "source": [
        "def binary_search(arr,x,head,tail):\n",
        "  mid=1+(tail-head)//2\n",
        "\n",
        "  if head<tail:\n",
        "    if arr[mid]<x:\n",
        "      return binary_search(arr,x,mid+1,tail)\n",
        "    elif arr[mid]>x:\n",
        "      return binary_search(arr,x,head,mid-1)\n",
        "    else:\n",
        "      return mid\n",
        "  else:\n",
        "    print('{} is not in given array'.format(x))\n",
        "    return None"
      ],
      "execution_count": null,
      "outputs": []
    },
    {
      "cell_type": "code",
      "metadata": {
        "colab": {
          "base_uri": "https://localhost:8080/"
        },
        "id": "WvrqmfaZTNvE",
        "outputId": "11dddc9d-a54f-42fb-c6eb-74ad922ccd1a"
      },
      "source": [
        "#driver code\n",
        "arr = [ 2, 3, 4, 10, 40 ] \n",
        "\n",
        "x = 10\n",
        "print(binary_search(arr,x,0,len(arr)-1))\n",
        "\n",
        "x = 12\n",
        "binary_search(arr,x,0,len(arr)-1)"
      ],
      "execution_count": null,
      "outputs": [
        {
          "output_type": "stream",
          "text": [
            "3\n",
            "12 is not in given array\n"
          ],
          "name": "stdout"
        }
      ]
    },
    {
      "cell_type": "markdown",
      "metadata": {
        "id": "Tpx0D2aYXnfe"
      },
      "source": [
        "##Jump Search (unfinished)\n",
        "https://www.geeksforgeeks.org/jump-search/"
      ]
    },
    {
      "cell_type": "code",
      "metadata": {
        "id": "vPAFz3MEXt-w"
      },
      "source": [
        "def jump_search(arr,x):\n",
        "  import math\n",
        "\n",
        "  step=int(math.sqrt(len(arr)))\n",
        "  print('step is {}'.format(step))\n",
        "\n",
        "  for i in range(0,len(arr)-1,step):\n",
        "    "
      ],
      "execution_count": 19,
      "outputs": []
    },
    {
      "cell_type": "code",
      "metadata": {
        "id": "Xd1K9DKQZHoR"
      },
      "source": [
        "arr = [ 0, 1, 1, 2, 3, 5, 8, 13, 21, 34, 55, 89, 144, 233, 377, 610 ] \n",
        "x = 40\n",
        "n = len(arr) \n",
        "\n",
        "jump_search(arr, x, n)"
      ],
      "execution_count": 20,
      "outputs": []
    },
    {
      "cell_type": "markdown",
      "metadata": {
        "id": "Fze3q4ATqqCE"
      },
      "source": [
        "##Interpolation Search\n",
        "https://www.geeksforgeeks.org/interpolation-search/"
      ]
    },
    {
      "cell_type": "code",
      "metadata": {
        "id": "j7pvlrWQq-bg"
      },
      "source": [
        "def interpolation_search(arr,x,lo,hi):\n",
        "\n",
        "  if lo<hi:\n",
        "    pos=lo+(((x-arr[lo])*(hi-lo))//(arr[hi]-arr[lo]))\n",
        "    if ( x>=arr[lo] and arr[hi]>=x):\n",
        "      if arr[pos]<x:\n",
        "        return interpolation_search(arr,x,pos+1,hi)\n",
        "      elif arr[pos]>x:\n",
        "        return interpolation_search(arr,x,lo,pos-1)\n",
        "      else:\n",
        "        print('{} is at {}'.format(x,pos))\n",
        "        return pos\n",
        "\n",
        "  print('{} is not in given array'.format(x))\n",
        "  return"
      ],
      "execution_count": 108,
      "outputs": []
    },
    {
      "cell_type": "code",
      "metadata": {
        "colab": {
          "base_uri": "https://localhost:8080/"
        },
        "id": "2ad2InsszPlS",
        "outputId": "d73d3cbb-db1d-454b-d74e-c19bced7403e"
      },
      "source": [
        "arr = [10, 12, 13, 16, 18, 19, 20, 21, 22, 23, 24, 33, 35, 42, 47]\n",
        "\n",
        "lo=0\n",
        "hi=len(arr)-1\n",
        "\n",
        "x=18\n",
        "interpolation_search(arr,x,lo,hi)\n",
        "\n",
        "x=30\n",
        "interpolation_search(arr,x,lo,hi)"
      ],
      "execution_count": 110,
      "outputs": [
        {
          "output_type": "stream",
          "text": [
            "18 is at 4\n",
            "30 is not in given array\n"
          ],
          "name": "stdout"
        }
      ]
    },
    {
      "cell_type": "code",
      "metadata": {
        "id": "7dkRPNlRPxtu"
      },
      "source": [
        ""
      ],
      "execution_count": null,
      "outputs": []
    }
  ]
}