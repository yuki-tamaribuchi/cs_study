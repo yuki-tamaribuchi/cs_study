{
  "nbformat": 4,
  "nbformat_minor": 0,
  "metadata": {
    "colab": {
      "name": "algorithm_methods.ipynb",
      "provenance": [],
      "collapsed_sections": [],
      "authorship_tag": "ABX9TyPxeSsPBuhVxr+isCrBEEHv",
      "include_colab_link": true
    },
    "kernelspec": {
      "name": "python3",
      "display_name": "Python 3"
    }
  },
  "cells": [
    {
      "cell_type": "markdown",
      "metadata": {
        "id": "view-in-github",
        "colab_type": "text"
      },
      "source": [
        "<a href=\"https://colab.research.google.com/github/yuki-tamaribuchi/cs_study/blob/master/algorithm_methods.ipynb\" target=\"_parent\"><img src=\"https://colab.research.google.com/assets/colab-badge.svg\" alt=\"Open In Colab\"/></a>"
      ]
    },
    {
      "cell_type": "markdown",
      "metadata": {
        "id": "Q9nWiTnDHKVt"
      },
      "source": [
        "##Circle Method"
      ]
    },
    {
      "cell_type": "code",
      "metadata": {
        "id": "5enk5-rEG-U3"
      },
      "source": [
        "def circle_method(x):\n",
        "  combinations={k:[] for k in x}\n",
        "  data_arr=x\n",
        "  data_length=len(x)\n",
        "\n",
        "  if data_length==0:\n",
        "    print('配列に要素がありません．')\n",
        "    return\n",
        "\n",
        "  elif data_length==1:\n",
        "    print('1つでは組み合わせが作れません．')\n",
        "    return\n",
        "\n",
        "  if data_length%2!=0:\n",
        "    print('データ数が奇数の場合にはまだ対応していません．')\n",
        "    return\n",
        "\n",
        "  for _ in range(data_length-1):\n",
        "    for j in range(data_length//2):      \n",
        "      combinations[data_arr[j]].append(data_arr[-j-1])\n",
        "      combinations[data_arr[-j-1]].append(data_arr[j])\n",
        "\n",
        "    data_arr=data_arr[1:data_length-1]+data_arr[:1]+[data_arr[data_length-1]]\n",
        "\n",
        "  return combinations\n",
        "\n",
        "#Created at 20210224"
      ],
      "execution_count": 1,
      "outputs": []
    },
    {
      "cell_type": "markdown",
      "metadata": {
        "id": "A6PgdNtbN50w"
      },
      "source": [
        "###Example"
      ]
    },
    {
      "cell_type": "code",
      "metadata": {
        "id": "jqoqLZ-mv79p"
      },
      "source": [
        "import string\n",
        "aplhabets=string.ascii_uppercase\n",
        "x=[aplhabets[i] for i in range(10)]"
      ],
      "execution_count": 2,
      "outputs": []
    },
    {
      "cell_type": "code",
      "metadata": {
        "colab": {
          "base_uri": "https://localhost:8080/"
        },
        "id": "SDW2F-3IwOik",
        "outputId": "14c57980-964f-412e-cb6a-34dff7f99085"
      },
      "source": [
        "circle_method(x)"
      ],
      "execution_count": 3,
      "outputs": [
        {
          "output_type": "execute_result",
          "data": {
            "text/plain": [
              "{'A': ['J', 'C', 'E', 'G', 'I', 'B', 'D', 'F', 'H'],\n",
              " 'B': ['I', 'J', 'D', 'F', 'H', 'A', 'C', 'E', 'G'],\n",
              " 'C': ['H', 'A', 'J', 'E', 'G', 'I', 'B', 'D', 'F'],\n",
              " 'D': ['G', 'I', 'B', 'J', 'F', 'H', 'A', 'C', 'E'],\n",
              " 'E': ['F', 'H', 'A', 'C', 'J', 'G', 'I', 'B', 'D'],\n",
              " 'F': ['E', 'G', 'I', 'B', 'D', 'J', 'H', 'A', 'C'],\n",
              " 'G': ['D', 'F', 'H', 'A', 'C', 'E', 'J', 'I', 'B'],\n",
              " 'H': ['C', 'E', 'G', 'I', 'B', 'D', 'F', 'J', 'A'],\n",
              " 'I': ['B', 'D', 'F', 'H', 'A', 'C', 'E', 'G', 'J'],\n",
              " 'J': ['A', 'B', 'C', 'D', 'E', 'F', 'G', 'H', 'I']}"
            ]
          },
          "metadata": {
            "tags": []
          },
          "execution_count": 3
        }
      ]
    }
  ]
}