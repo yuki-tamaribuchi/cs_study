{
  "nbformat": 4,
  "nbformat_minor": 0,
  "metadata": {
    "colab": {
      "name": "algorithm_methods.ipynb",
      "provenance": [],
      "collapsed_sections": [],
      "authorship_tag": "ABX9TyM38bWs3K6oNHOyhrEe1uDf",
      "include_colab_link": true
    },
    "kernelspec": {
      "name": "python3",
      "display_name": "Python 3"
    }
  },
  "cells": [
    {
      "cell_type": "markdown",
      "metadata": {
        "id": "view-in-github",
        "colab_type": "text"
      },
      "source": [
        "<a href=\"https://colab.research.google.com/github/yuki-tamaribuchi/cs_study/blob/master/algorithm_methods.ipynb\" target=\"_parent\"><img src=\"https://colab.research.google.com/assets/colab-badge.svg\" alt=\"Open In Colab\"/></a>"
      ]
    },
    {
      "cell_type": "code",
      "metadata": {
        "id": "PH7eiUs_XZIK"
      },
      "source": [
        "import numpy as np"
      ],
      "execution_count": 11,
      "outputs": []
    },
    {
      "cell_type": "markdown",
      "metadata": {
        "id": "6aXrgie7qvCa"
      },
      "source": [
        "#上智大学 情報工学概論\n",
        "https://www.miyamotolab.org/lectures/spring_summer/algorithms_and_data_structures"
      ]
    },
    {
      "cell_type": "markdown",
      "metadata": {
        "id": "Q9nWiTnDHKVt"
      },
      "source": [
        "##Circle Method"
      ]
    },
    {
      "cell_type": "code",
      "metadata": {
        "id": "5enk5-rEG-U3"
      },
      "source": [
        "def circle_method(x):\n",
        "  combinations={k:[] for k in x}\n",
        "  data_arr=x\n",
        "  data_length=len(x)\n",
        "\n",
        "  if data_length==0:\n",
        "    print('配列に要素がありません．')\n",
        "    return\n",
        "\n",
        "  elif data_length==1:\n",
        "    print('1つでは組み合わせが作れません．')\n",
        "    return\n",
        "\n",
        "  if data_length%2!=0:\n",
        "    print('データ数が奇数の場合にはまだ対応していません．')\n",
        "    return\n",
        "\n",
        "  for _ in range(data_length-1):\n",
        "    for j in range(data_length//2):      \n",
        "      combinations[data_arr[j]].append(data_arr[-j-1])\n",
        "      combinations[data_arr[-j-1]].append(data_arr[j])\n",
        "\n",
        "    data_arr=data_arr[1:data_length-1]+data_arr[:1]+[data_arr[data_length-1]]\n",
        "\n",
        "  return combinations\n",
        "\n",
        "#Created at 20210224"
      ],
      "execution_count": null,
      "outputs": []
    },
    {
      "cell_type": "markdown",
      "metadata": {
        "id": "A6PgdNtbN50w"
      },
      "source": [
        "###Example"
      ]
    },
    {
      "cell_type": "code",
      "metadata": {
        "id": "jqoqLZ-mv79p"
      },
      "source": [
        "import string\n",
        "aplhabets=string.ascii_uppercase\n",
        "x=[aplhabets[i] for i in range(10)]"
      ],
      "execution_count": null,
      "outputs": []
    },
    {
      "cell_type": "code",
      "metadata": {
        "colab": {
          "base_uri": "https://localhost:8080/"
        },
        "id": "SDW2F-3IwOik",
        "outputId": "14c57980-964f-412e-cb6a-34dff7f99085"
      },
      "source": [
        "circle_method(x)"
      ],
      "execution_count": null,
      "outputs": [
        {
          "output_type": "execute_result",
          "data": {
            "text/plain": [
              "{'A': ['J', 'C', 'E', 'G', 'I', 'B', 'D', 'F', 'H'],\n",
              " 'B': ['I', 'J', 'D', 'F', 'H', 'A', 'C', 'E', 'G'],\n",
              " 'C': ['H', 'A', 'J', 'E', 'G', 'I', 'B', 'D', 'F'],\n",
              " 'D': ['G', 'I', 'B', 'J', 'F', 'H', 'A', 'C', 'E'],\n",
              " 'E': ['F', 'H', 'A', 'C', 'J', 'G', 'I', 'B', 'D'],\n",
              " 'F': ['E', 'G', 'I', 'B', 'D', 'J', 'H', 'A', 'C'],\n",
              " 'G': ['D', 'F', 'H', 'A', 'C', 'E', 'J', 'I', 'B'],\n",
              " 'H': ['C', 'E', 'G', 'I', 'B', 'D', 'F', 'J', 'A'],\n",
              " 'I': ['B', 'D', 'F', 'H', 'A', 'C', 'E', 'G', 'J'],\n",
              " 'J': ['A', 'B', 'C', 'D', 'E', 'F', 'G', 'H', 'I']}"
            ]
          },
          "metadata": {
            "tags": []
          },
          "execution_count": 3
        }
      ]
    },
    {
      "cell_type": "markdown",
      "metadata": {
        "id": "BHYQJfEju0-6"
      },
      "source": [
        "#GeeksforGeeks - Algorithms\n",
        "https://www.geeksforgeeks.org/fundamentals-of-algorithms/?ref=shm#AnalysisofAlgorithms"
      ]
    },
    {
      "cell_type": "markdown",
      "metadata": {
        "id": "Y5wnWHdhQlIN"
      },
      "source": [
        "##Search"
      ]
    },
    {
      "cell_type": "markdown",
      "metadata": {
        "id": "SQA6L9WFDiv9"
      },
      "source": [
        "###Linear Search\n",
        "https://www.geeksforgeeks.org/linear-search/"
      ]
    },
    {
      "cell_type": "code",
      "metadata": {
        "id": "3BqQ1AZFvAt2"
      },
      "source": [
        "def linear_search(arr,x):\n",
        "  arr_length=len(arr)\n",
        "  if arr_length==0:\n",
        "    print('Given array is empty.')\n",
        "    return\n",
        "\n",
        "  for i in range(arr_length):\n",
        "    if arr[i]==x:\n",
        "      print('x is at [{}]'.format(i))\n",
        "      return i\n",
        "\n",
        "    if i==arr_length-1:\n",
        "      print('{} is not in given array'.format(x))\n",
        "      return None\n",
        "\n"
      ],
      "execution_count": null,
      "outputs": []
    },
    {
      "cell_type": "code",
      "metadata": {
        "colab": {
          "base_uri": "https://localhost:8080/"
        },
        "id": "Vvmu5iuMELuk",
        "outputId": "cd99def3-62b8-4ed1-cf2d-6e24a0946ad1"
      },
      "source": [
        "#driver code\n",
        "arr=[10, 20, 80, 30, 60, 50, 110, 100, 130, 170]\n",
        "\n",
        "x=60\n",
        "linear_search(arr,x)\n",
        "\n",
        "x=140\n",
        "linear_search(arr,x)\n",
        "\n",
        "arr=[]\n",
        "linear_search(arr,x)"
      ],
      "execution_count": null,
      "outputs": [
        {
          "output_type": "stream",
          "text": [
            "x is at [4]\n",
            "140 is not in given array\n",
            "Given array is empty.\n"
          ],
          "name": "stdout"
        }
      ]
    },
    {
      "cell_type": "markdown",
      "metadata": {
        "id": "bVooyAhcUHF3"
      },
      "source": [
        "###Binary Search\n",
        "https://www.geeksforgeeks.org/binary-search/"
      ]
    },
    {
      "cell_type": "code",
      "metadata": {
        "id": "nVUTmxThNqLE"
      },
      "source": [
        "def binary_search(arr,x,head,tail):\n",
        "  mid=1+(tail-head)//2\n",
        "\n",
        "  if head<tail:\n",
        "    if arr[mid]<x:\n",
        "      return binary_search(arr,x,mid+1,tail)\n",
        "    elif arr[mid]>x:\n",
        "      return binary_search(arr,x,head,mid-1)\n",
        "    else:\n",
        "      print('{} is at [{}]'.format(x,mid))\n",
        "      return mid\n",
        "  else:\n",
        "    print('{} is not in given array'.format(x))\n",
        "    return None"
      ],
      "execution_count": null,
      "outputs": []
    },
    {
      "cell_type": "code",
      "metadata": {
        "colab": {
          "base_uri": "https://localhost:8080/"
        },
        "id": "WvrqmfaZTNvE",
        "outputId": "11dddc9d-a54f-42fb-c6eb-74ad922ccd1a"
      },
      "source": [
        "#driver code\n",
        "arr = [ 2, 3, 4, 10, 40 ] \n",
        "\n",
        "x = 10\n",
        "print(binary_search(arr,x,0,len(arr)-1))\n",
        "\n",
        "x = 12\n",
        "binary_search(arr,x,0,len(arr)-1)"
      ],
      "execution_count": null,
      "outputs": [
        {
          "output_type": "stream",
          "text": [
            "3\n",
            "12 is not in given array\n"
          ],
          "name": "stdout"
        }
      ]
    },
    {
      "cell_type": "markdown",
      "metadata": {
        "id": "Tpx0D2aYXnfe"
      },
      "source": [
        "###Jump Search (unfinished)\n",
        "https://www.geeksforgeeks.org/jump-search/"
      ]
    },
    {
      "cell_type": "code",
      "metadata": {
        "id": "vPAFz3MEXt-w"
      },
      "source": [
        "def jump_search(arr,x):\n",
        "  import math\n",
        "\n",
        "  step=int(math.sqrt(len(arr)))\n",
        "  print('step is {}'.format(step))\n",
        "\n",
        "  for i in range(0,len(arr)-1,step):\n",
        "    "
      ],
      "execution_count": null,
      "outputs": []
    },
    {
      "cell_type": "code",
      "metadata": {
        "id": "Xd1K9DKQZHoR"
      },
      "source": [
        "arr = [ 0, 1, 1, 2, 3, 5, 8, 13, 21, 34, 55, 89, 144, 233, 377, 610 ] \n",
        "x = 40\n",
        "n = len(arr) \n",
        "\n",
        "jump_search(arr, x, n)"
      ],
      "execution_count": null,
      "outputs": []
    },
    {
      "cell_type": "markdown",
      "metadata": {
        "id": "Fze3q4ATqqCE"
      },
      "source": [
        "###Interpolation Search\n",
        "https://www.geeksforgeeks.org/interpolation-search/"
      ]
    },
    {
      "cell_type": "code",
      "metadata": {
        "id": "j7pvlrWQq-bg"
      },
      "source": [
        "def interpolation_search(arr,x,lo,hi):\n",
        "\n",
        "  if lo<hi:\n",
        "    pos=lo+(((x-arr[lo])*(hi-lo))//(arr[hi]-arr[lo]))\n",
        "    if ( x>=arr[lo] and arr[hi]>=x):\n",
        "      if arr[pos]<x:\n",
        "        return interpolation_search(arr,x,pos+1,hi)\n",
        "      elif arr[pos]>x:\n",
        "        return interpolation_search(arr,x,lo,pos-1)\n",
        "      else:\n",
        "        print('{} is at {}'.format(x,pos))\n",
        "        return pos\n",
        "\n",
        "  print('{} is not in given array'.format(x))\n",
        "  return"
      ],
      "execution_count": null,
      "outputs": []
    },
    {
      "cell_type": "code",
      "metadata": {
        "colab": {
          "base_uri": "https://localhost:8080/"
        },
        "id": "2ad2InsszPlS",
        "outputId": "d73d3cbb-db1d-454b-d74e-c19bced7403e"
      },
      "source": [
        "arr = [10, 12, 13, 16, 18, 19, 20, 21, 22, 23, 24, 33, 35, 42, 47]\n",
        "\n",
        "lo=0\n",
        "hi=len(arr)-1\n",
        "\n",
        "x=18\n",
        "interpolation_search(arr,x,lo,hi)\n",
        "\n",
        "x=30\n",
        "interpolation_search(arr,x,lo,hi)"
      ],
      "execution_count": null,
      "outputs": [
        {
          "output_type": "stream",
          "text": [
            "18 is at 4\n",
            "30 is not in given array\n"
          ],
          "name": "stdout"
        }
      ]
    },
    {
      "cell_type": "markdown",
      "metadata": {
        "id": "frJbeb6WQPe2"
      },
      "source": [
        "###Exponential Search\n",
        "https://www.geeksforgeeks.org/exponential-search/\n",
        "\n",
        "https://qiita.com/kgoto/items/e3cf4dc9a46ac6c0f190"
      ]
    },
    {
      "cell_type": "code",
      "metadata": {
        "id": "7dkRPNlRPxtu"
      },
      "source": [
        "def binary_search(arr,x,head,tail):\n",
        "  mid=1+(tail-head)//2\n",
        "\n",
        "  if head<tail:\n",
        "    if arr[mid]<x:\n",
        "      return binary_search(arr,x,mid+1,tail)\n",
        "    elif arr[mid]>x:\n",
        "      return binary_search(arr,x,head,mid-1)\n",
        "    else:\n",
        "      print('{} is at [{}]'.format(x,mid))\n",
        "      return mid\n",
        "  else:\n",
        "    print('{} is not in given array'.format(x))\n",
        "    return None\n",
        "\n",
        "\n",
        "\n",
        "def exponential_search(arr,x,n):\n",
        "  i=1\n",
        "\n",
        "  while i<n and arr[i]<x:\n",
        "    i=i*2\n",
        "  \n",
        "  return binary_search(arr,x,i,i*2)"
      ],
      "execution_count": null,
      "outputs": []
    },
    {
      "cell_type": "code",
      "metadata": {
        "colab": {
          "base_uri": "https://localhost:8080/"
        },
        "id": "2FOz-R2GFPqf",
        "outputId": "5b845624-2258-437d-ac60-1e0f022e833a"
      },
      "source": [
        "arr = [2, 3, 4, 10, 40]\n",
        "x = 10\n",
        "\n",
        "exponential_search(arr,x,len(arr))"
      ],
      "execution_count": null,
      "outputs": [
        {
          "output_type": "stream",
          "text": [
            "10 is at [3]\n"
          ],
          "name": "stdout"
        },
        {
          "output_type": "execute_result",
          "data": {
            "text/plain": [
              "3"
            ]
          },
          "metadata": {
            "tags": []
          },
          "execution_count": 21
        }
      ]
    },
    {
      "cell_type": "markdown",
      "metadata": {
        "id": "VZB28qlYMxNT"
      },
      "source": [
        "###Ternary Search\n",
        "https://www.geeksforgeeks.org/binary-search-preferred-ternary-search/"
      ]
    },
    {
      "cell_type": "code",
      "metadata": {
        "id": "1aNy40rFQpwe"
      },
      "source": [
        "def ternary_search(arr,x,head,tail):\n",
        "  if head<=tail:\n",
        "    mid1=head+((tail-head)//3)\n",
        "    mid2=mid1+((tail-head)//3)\n",
        "\n",
        "    if arr[mid1]==x:\n",
        "      print('{} is at [{}]'.format(x,mid1))\n",
        "      return mid1\n",
        "\n",
        "    if arr[mid2]==x:\n",
        "      print('{} is at [{}]'.format(x,mid2))\n",
        "      return mid2\n",
        "\n",
        "    if arr[mid1]>x:\n",
        "      return ternary_search(arr,x,head,mid1-1)\n",
        "    \n",
        "    if arr[mid2]<x:\n",
        "      return ternary_search(arr,x,mid2+1,tail)\n",
        "    \n",
        "    return ternary_search(arr,x,mid1+1,mid2-1)\n",
        "  else:\n",
        "    print('{} is no in given array'.format(x))\n",
        "    return"
      ],
      "execution_count": null,
      "outputs": []
    },
    {
      "cell_type": "code",
      "metadata": {
        "colab": {
          "base_uri": "https://localhost:8080/"
        },
        "id": "5DUQDGnHR1lC",
        "outputId": "f4c310c7-5b72-48cd-ddae-f3f9787bd358"
      },
      "source": [
        "arr = [ 2, 3, 4, 10, 40 ] \n",
        "\n",
        "x = 10\n",
        "ternary_search(arr,x,0,len(arr))"
      ],
      "execution_count": null,
      "outputs": [
        {
          "output_type": "stream",
          "text": [
            "10 is at [3]\n"
          ],
          "name": "stdout"
        },
        {
          "output_type": "execute_result",
          "data": {
            "text/plain": [
              "3"
            ]
          },
          "metadata": {
            "tags": []
          },
          "execution_count": 40
        }
      ]
    },
    {
      "cell_type": "markdown",
      "metadata": {
        "id": "YAo77s-qOH3f"
      },
      "source": [
        "##Sort"
      ]
    },
    {
      "cell_type": "markdown",
      "metadata": {
        "id": "sCULA8N1OLQP"
      },
      "source": [
        "###Selection Sort\n",
        "https://www.geeksforgeeks.org/selection-sort/"
      ]
    },
    {
      "cell_type": "code",
      "metadata": {
        "id": "axnWktO5OPJA"
      },
      "source": [
        "def selection_sort(arr):\n",
        "\n",
        "  n=len(arr)\n",
        "\n",
        "  if n==0:\n",
        "    print('Empty')\n",
        "    return\n",
        "  elif n==1:\n",
        "    return arr\n",
        "\n",
        "  for i in range(n-1):\n",
        "    min_index=i\n",
        "\n",
        "    for j in range(i+1,n):\n",
        "\n",
        "      if arr[j]<arr[min_index]:\n",
        "        min_index=j\n",
        "\n",
        "    arr[i],arr[min_index]=arr[min_index],arr[i]\n",
        "\n",
        "  return arr"
      ],
      "execution_count": null,
      "outputs": []
    },
    {
      "cell_type": "code",
      "metadata": {
        "colab": {
          "base_uri": "https://localhost:8080/"
        },
        "id": "SCnFjJASQhlx",
        "outputId": "4876150f-0164-48de-e7f8-b8b734e72a88"
      },
      "source": [
        "A = [64, 25, 12, 22, 11] \n",
        "\n",
        "selection_sort(A)"
      ],
      "execution_count": null,
      "outputs": [
        {
          "output_type": "execute_result",
          "data": {
            "text/plain": [
              "[11, 12, 22, 25, 64]"
            ]
          },
          "metadata": {
            "tags": []
          },
          "execution_count": 20
        }
      ]
    },
    {
      "cell_type": "markdown",
      "metadata": {
        "id": "9u1o3aX7orYN"
      },
      "source": [
        "###Bubble Sort\n",
        "https://www.geeksforgeeks.org/bubble-sort/"
      ]
    },
    {
      "cell_type": "code",
      "metadata": {
        "id": "qIC0hGxzoxGl"
      },
      "source": [
        "def bubble_sort(arr):\n",
        "  n=len(arr)\n",
        "\n",
        "  for i in range(n-1):\n",
        "    for j in range(n-1):\n",
        "      if arr[j+1]<arr[j]:\n",
        "        arr[j],arr[j+1]=arr[j+1],arr[j]\n",
        "  return arr"
      ],
      "execution_count": null,
      "outputs": []
    },
    {
      "cell_type": "code",
      "metadata": {
        "colab": {
          "base_uri": "https://localhost:8080/"
        },
        "id": "rm5OWkV1rKCx",
        "outputId": "7ffb4724-300e-480a-b294-de5bd8773070"
      },
      "source": [
        "arr = [64, 34, 25, 12, 22, 11, 90]\n",
        "  \n",
        "bubble_sort(arr) "
      ],
      "execution_count": null,
      "outputs": [
        {
          "output_type": "execute_result",
          "data": {
            "text/plain": [
              "[11, 12, 22, 25, 34, 64, 90]"
            ]
          },
          "metadata": {
            "tags": []
          },
          "execution_count": 6
        }
      ]
    },
    {
      "cell_type": "markdown",
      "metadata": {
        "id": "eFrnxkwktu8A"
      },
      "source": [
        "###Insertion Sort\n",
        "https://www.geeksforgeeks.org/insertion-sort/"
      ]
    },
    {
      "cell_type": "code",
      "metadata": {
        "id": "ekOPz9-Xt1fQ"
      },
      "source": [
        "def insertion_sort(arr):\n",
        "  n=len(arr)\n",
        "\n",
        "  for i in range(1,n):\n",
        "    key=arr[i]\n",
        "\n",
        "    j=i-1\n",
        "    while j>=0 and key<arr[j]:\n",
        "      arr[j+1]=arr[j]\n",
        "      j-=1\n",
        "    arr[j+1]=key\n",
        "      \n",
        "\n",
        "  return arr"
      ],
      "execution_count": null,
      "outputs": []
    },
    {
      "cell_type": "code",
      "metadata": {
        "colab": {
          "base_uri": "https://localhost:8080/"
        },
        "id": "ZrlQBirk5Ag0",
        "outputId": "09849049-83ae-470c-d9f8-1b3208a1ad89"
      },
      "source": [
        "arr = [12, 11, 13, 5, 6]\n",
        "insertion_sort(arr)"
      ],
      "execution_count": null,
      "outputs": [
        {
          "output_type": "execute_result",
          "data": {
            "text/plain": [
              "[5, 6, 11, 12, 13]"
            ]
          },
          "metadata": {
            "tags": []
          },
          "execution_count": 80
        }
      ]
    },
    {
      "cell_type": "markdown",
      "metadata": {
        "id": "PmcRQZEfAVf1"
      },
      "source": [
        "###Merge Sort\n",
        "https://www.geeksforgeeks.org/merge-sort/"
      ]
    },
    {
      "cell_type": "code",
      "metadata": {
        "id": "-g-777RjIME_"
      },
      "source": [
        "def merge_sort(arr):\n",
        "\n",
        "  if len(arr)>1:\n",
        "    mid=len(arr)//2\n",
        "\n",
        "    arr_left=arr[:mid]\n",
        "    arr_right=arr[mid:]\n",
        "\n",
        "    merge_sort(arr_left)\n",
        "    merge_sort(arr_right)\n",
        "\n",
        "    i=j=k=0\n",
        "\n",
        "    while i <len(arr_left) and j<len(arr_right):\n",
        "      if arr_left[i]<arr_right[j]:\n",
        "        arr[k]=arr_left[i]\n",
        "        i+=1\n",
        "      else:\n",
        "        arr[k]=arr_right[j]\n",
        "        j+=1\n",
        "\n",
        "      k+=1\n",
        "\n",
        "    while i<len(arr_left):\n",
        "      arr[k]=arr_left[i]\n",
        "      i+=1\n",
        "      k+=1\n",
        "    while j<len(arr_right):\n",
        "      arr[k]=arr_right[j]\n",
        "      j+=1\n",
        "      k+=1\n",
        "\n",
        "  return arr"
      ],
      "execution_count": null,
      "outputs": []
    },
    {
      "cell_type": "code",
      "metadata": {
        "colab": {
          "base_uri": "https://localhost:8080/"
        },
        "id": "E69u72f9LA5E",
        "outputId": "9eea589a-e6d5-411b-a008-475bb3d4d266"
      },
      "source": [
        "arr = [ 12, 11, 13, 5, 6, 7 ]\n",
        "merge_sort(arr)"
      ],
      "execution_count": null,
      "outputs": [
        {
          "output_type": "execute_result",
          "data": {
            "text/plain": [
              "[5, 6, 7, 11, 12, 13]"
            ]
          },
          "metadata": {
            "tags": []
          },
          "execution_count": 27
        }
      ]
    },
    {
      "cell_type": "markdown",
      "metadata": {
        "id": "sIKCKtlmQzcF"
      },
      "source": [
        "###Heap Sort\n",
        "https://www.geeksforgeeks.org/heap-sort/"
      ]
    },
    {
      "cell_type": "code",
      "metadata": {
        "id": "IQ4nRKvtQ4yi"
      },
      "source": [
        "def heapify(arr,n,i):\n",
        "  largest=i\n",
        "  l=2*i+1\n",
        "  r=2*i+2\n",
        "\n",
        "  if l<n and arr[largest]<arr[l]:\n",
        "    largest=l\n",
        "\n",
        "  if r<n and arr[largest]<arr[r]:\n",
        "    largest=r\n",
        "\n",
        "  if largest !=i:\n",
        "    arr[i],arr[largest]=arr[largest],arr[i]\n",
        "    heapify(arr,n,largest)\n",
        "\n",
        "\n",
        "def heap_sort(arr):\n",
        "  n=len(arr)\n",
        "\n",
        "  for i in range(n//2-1,-1,-1):\n",
        "    heapify(arr,n,i)\n",
        "  \n",
        "  for i in range(n-1,0,-1):\n",
        "    arr[i],arr[0]=arr[0],arr[i]\n",
        "    heapify(arr,i,0)\n",
        "  \n",
        "  return arr"
      ],
      "execution_count": null,
      "outputs": []
    },
    {
      "cell_type": "code",
      "metadata": {
        "id": "O2iqyYjDeCn8",
        "colab": {
          "base_uri": "https://localhost:8080/"
        },
        "outputId": "01c0fc02-0e43-4a8f-c04d-25e1620faf85"
      },
      "source": [
        "arr = [12, 11, 13, 5, 6, 7]\n",
        "heap_sort(arr)"
      ],
      "execution_count": null,
      "outputs": [
        {
          "output_type": "execute_result",
          "data": {
            "text/plain": [
              "[5, 6, 7, 11, 12, 13]"
            ]
          },
          "metadata": {
            "tags": []
          },
          "execution_count": 5
        }
      ]
    },
    {
      "cell_type": "markdown",
      "metadata": {
        "id": "lNbGvV-xn8IK"
      },
      "source": [
        "###Quick Sort\n",
        "https://www.geeksforgeeks.org/quick-sort/"
      ]
    },
    {
      "cell_type": "code",
      "metadata": {
        "id": "k6OSMcLJn-xo"
      },
      "source": [
        "def partition(arr,low,high):\n",
        "  pivot=arr[high]\n",
        "\n",
        "  i=(low-1)\n",
        "  for j in range(low,high):\n",
        "    if arr[j]<pivot:\n",
        "      i=i+1\n",
        "      arr[j],arr[i]=arr[i],arr[j]\n",
        "  arr[i+1],arr[high]=arr[high],arr[i+1]\n",
        "  return i+1\n",
        "\n",
        "def quick_sort(arr,low,high):\n",
        "  if low<high:\n",
        "    pi=partition(arr,low,high)\n",
        "\n",
        "    quick_sort(arr,low,pi-1)\n",
        "    quick_sort(arr,pi+1,high)\n",
        "\n",
        "  return arr"
      ],
      "execution_count": null,
      "outputs": []
    },
    {
      "cell_type": "code",
      "metadata": {
        "colab": {
          "base_uri": "https://localhost:8080/",
          "height": 217
        },
        "id": "tD39kvyn4Od7",
        "outputId": "9099ae36-de97-454b-a77d-814ff3e15dde"
      },
      "source": [
        "arr = [10, 7, 8, 9, 1, 5]\n",
        "\n",
        "quick_sort(arr,0,len(arr)-1)"
      ],
      "execution_count": null,
      "outputs": [
        {
          "output_type": "error",
          "ename": "NameError",
          "evalue": "ignored",
          "traceback": [
            "\u001b[0;31m---------------------------------------------------------------------------\u001b[0m",
            "\u001b[0;31mNameError\u001b[0m                                 Traceback (most recent call last)",
            "\u001b[0;32m<ipython-input-2-e48e8587cb35>\u001b[0m in \u001b[0;36m<module>\u001b[0;34m()\u001b[0m\n\u001b[1;32m      1\u001b[0m \u001b[0marr\u001b[0m \u001b[0;34m=\u001b[0m \u001b[0;34m[\u001b[0m\u001b[0;36m10\u001b[0m\u001b[0;34m,\u001b[0m \u001b[0;36m7\u001b[0m\u001b[0;34m,\u001b[0m \u001b[0;36m8\u001b[0m\u001b[0;34m,\u001b[0m \u001b[0;36m9\u001b[0m\u001b[0;34m,\u001b[0m \u001b[0;36m1\u001b[0m\u001b[0;34m,\u001b[0m \u001b[0;36m5\u001b[0m\u001b[0;34m]\u001b[0m\u001b[0;34m\u001b[0m\u001b[0;34m\u001b[0m\u001b[0m\n\u001b[1;32m      2\u001b[0m \u001b[0;34m\u001b[0m\u001b[0m\n\u001b[0;32m----> 3\u001b[0;31m \u001b[0mquick_sort\u001b[0m\u001b[0;34m(\u001b[0m\u001b[0marr\u001b[0m\u001b[0;34m,\u001b[0m\u001b[0;36m0\u001b[0m\u001b[0;34m,\u001b[0m\u001b[0mlen\u001b[0m\u001b[0;34m(\u001b[0m\u001b[0marr\u001b[0m\u001b[0;34m)\u001b[0m\u001b[0;34m-\u001b[0m\u001b[0;36m1\u001b[0m\u001b[0;34m)\u001b[0m\u001b[0;34m\u001b[0m\u001b[0;34m\u001b[0m\u001b[0m\n\u001b[0m",
            "\u001b[0;31mNameError\u001b[0m: name 'quick_sort' is not defined"
          ]
        }
      ]
    },
    {
      "cell_type": "markdown",
      "metadata": {
        "id": "tEBiy9b_8AWw"
      },
      "source": [
        "###Radix Sort\n",
        "https://www.geeksforgeeks.org/radix-sort/"
      ]
    },
    {
      "cell_type": "code",
      "metadata": {
        "id": "ci7oIwMNrvHn"
      },
      "source": [
        "def counting_sort(arr,exp1):\n",
        "  n=len(arr)\n",
        "  output=[0]*n\n",
        "  count=[0]*(10)\n",
        "\n",
        "  for i in range(0,n):\n",
        "    index=(arr[i]/exp1)\n",
        "    count[int(index%10)]+=1\n",
        "\n",
        "  for i in range(1,10):\n",
        "    count[i]+=count[i-1]\n",
        "\n",
        "  i=n-1\n",
        "  while i>=0:\n",
        "    index=(arr[i]/exp1)\n",
        "    output[count[int(index%10)]-1]=arr[i]\n",
        "    count[int(index%10)]-=1\n",
        "    i-=1\n",
        "\n",
        "  for i in range(0,n):\n",
        "    arr[i]=output[i]\n",
        "\n",
        "\n",
        "def radix_sort(arr):\n",
        "  max1=max(arr)\n",
        "\n",
        "  exp=1\n",
        "  while max1/exp>0:\n",
        "    counting_sort(arr,exp)\n",
        "    exp *=10\n",
        "\n",
        "  return arr"
      ],
      "execution_count": null,
      "outputs": []
    },
    {
      "cell_type": "code",
      "metadata": {
        "colab": {
          "base_uri": "https://localhost:8080/"
        },
        "id": "ywA9ICX4tmpB",
        "outputId": "c2177b8a-6dec-4fc9-b1c5-fd64c9a5541b"
      },
      "source": [
        "arr = [170, 45, 75, 90, 802, 24, 2, 66] \n",
        "\n",
        "radix_sort(arr)"
      ],
      "execution_count": null,
      "outputs": [
        {
          "output_type": "execute_result",
          "data": {
            "text/plain": [
              "[2, 24, 45, 66, 75, 90, 170, 802]"
            ]
          },
          "metadata": {
            "tags": []
          },
          "execution_count": 9
        }
      ]
    },
    {
      "cell_type": "markdown",
      "metadata": {
        "id": "4C-O_jSF-9WV"
      },
      "source": [
        "###Counting Sort\n",
        "https://www.geeksforgeeks.org/counting-sort/"
      ]
    },
    {
      "cell_type": "code",
      "metadata": {
        "id": "nJcK1PaL_AnL"
      },
      "source": [
        "def counting_sort(arr):\n",
        "  output=[0 for i in range(len(arr))]\n",
        "\n",
        "  count=[0 for i in range(256)]\n",
        "\n",
        "  ans=['' for _ in arr]\n",
        "\n",
        "  for i in arr:\n",
        "    count[ord(i)]+=1\n",
        "\n",
        "  for i in range(1,256):\n",
        "    count[i]+=count[i-1]\n",
        "\n",
        "  for i in range(len(arr)):\n",
        "    output[count[ord(arr[i])]-1]=arr[i]\n",
        "\n",
        "    print('output[',count[ord(arr[i])],']=',arr[i])\n",
        "\n",
        "\n",
        "    count[ord(arr[i])]-=1\n",
        "\n",
        "  print(output)\n",
        "\n",
        "  for i in range(len(arr)):\n",
        "    ans[i]=output[i]\n",
        "  \n",
        "  return ans"
      ],
      "execution_count": null,
      "outputs": []
    },
    {
      "cell_type": "code",
      "metadata": {
        "colab": {
          "base_uri": "https://localhost:8080/"
        },
        "id": "wwaPzgZU8ODl",
        "outputId": "40fa3817-0b76-4f4c-e18d-41b5508064b3"
      },
      "source": [
        "arr = \"geeksforgeeks\"\n",
        "counting_sort(arr)"
      ],
      "execution_count": null,
      "outputs": [
        {
          "output_type": "stream",
          "text": [
            "output[ 7 ]= g\n",
            "output[ 4 ]= e\n",
            "output[ 3 ]= e\n",
            "output[ 9 ]= k\n",
            "output[ 13 ]= s\n",
            "output[ 5 ]= f\n",
            "output[ 10 ]= o\n",
            "output[ 11 ]= r\n",
            "output[ 6 ]= g\n",
            "output[ 2 ]= e\n",
            "output[ 1 ]= e\n",
            "output[ 8 ]= k\n",
            "output[ 12 ]= s\n",
            "['e', 'e', 'e', 'e', 'f', 'g', 'g', 'k', 'k', 'o', 'r', 's', 's']\n"
          ],
          "name": "stdout"
        },
        {
          "output_type": "execute_result",
          "data": {
            "text/plain": [
              "['e', 'e', 'e', 'e', 'f', 'g', 'g', 'k', 'k', 'o', 'r', 's', 's']"
            ]
          },
          "metadata": {
            "tags": []
          },
          "execution_count": 66
        }
      ]
    },
    {
      "cell_type": "markdown",
      "metadata": {
        "id": "BKaJQwYIYfIE"
      },
      "source": [
        "###Bucket Sort\n",
        "https://www.geeksforgeeks.org/bucket-sort-2/"
      ]
    },
    {
      "cell_type": "code",
      "metadata": {
        "id": "hKafgFQOaMie"
      },
      "source": [
        "def insertion_sort(arr):\n",
        "  n=len(arr)\n",
        "\n",
        "  for i in range(1,n):\n",
        "    key=arr[i]\n",
        "\n",
        "    j=i-1\n",
        "    while j>=0 and key<arr[j]:\n",
        "      arr[j+1]=arr[j]\n",
        "      j-=1\n",
        "    arr[j+1]=key\n",
        "      \n",
        "\n",
        "  return arr"
      ],
      "execution_count": null,
      "outputs": []
    },
    {
      "cell_type": "code",
      "metadata": {
        "id": "zvYMXQC2BrbH"
      },
      "source": [
        "def bucket_sort(x):\n",
        "  arr=[]\n",
        "  slot_num=10\n",
        "\n",
        "  for i in range(slot_num):\n",
        "    arr.append([])\n",
        "\n",
        "  for j in x:\n",
        "    index_b=int(slot_num*j)\n",
        "    arr[index_b].append(j)\n",
        "\n",
        "  for i in range(slot_num):\n",
        "    arr[i]=insertion_sort(arr[i])\n",
        "  \n",
        "  k=0\n",
        "  for i in range(slot_num):\n",
        "    for j in range(len(arr[i])):\n",
        "      x[k]=arr[i][j]\n",
        "      k+=1\n",
        "  return x"
      ],
      "execution_count": null,
      "outputs": []
    },
    {
      "cell_type": "code",
      "metadata": {
        "colab": {
          "base_uri": "https://localhost:8080/"
        },
        "id": "IbV6_QWMaerO",
        "outputId": "ab33826c-5002-4726-fe45-f500c06fe32e"
      },
      "source": [
        "x = [0.897, 0.565, 0.656,0.1234, 0.665, 0.3434] \n",
        "\n",
        "bucket_sort(x)"
      ],
      "execution_count": null,
      "outputs": [
        {
          "output_type": "execute_result",
          "data": {
            "text/plain": [
              "[0.1234, 0.3434, 0.565, 0.656, 0.665, 0.897]"
            ]
          },
          "metadata": {
            "tags": []
          },
          "execution_count": 11
        }
      ]
    },
    {
      "cell_type": "markdown",
      "metadata": {
        "id": "DqVEiMU8KRme"
      },
      "source": [
        "###Shell Sort\n",
        "https://www.geeksforgeeks.org/shellsort/"
      ]
    },
    {
      "cell_type": "code",
      "metadata": {
        "id": "LhaZHnAUKWAt"
      },
      "source": [
        "def shell_sort(arr):\n",
        "  n=len(arr)\n",
        "  gap=n//2\n",
        "\n",
        "  while gap>0:\n",
        "    for i in range(gap,n):\n",
        "      temp=arr[i]\n",
        "\n",
        "      j=i\n",
        "      while j>=gap and arr[j-gap]>temp:\n",
        "        arr[j]=arr[j-gap]\n",
        "        j-=gap\n",
        "      \n",
        "      arr[j]=temp\n",
        "    \n",
        "    gap//=2\n",
        "  \n",
        "  return arr"
      ],
      "execution_count": null,
      "outputs": []
    },
    {
      "cell_type": "code",
      "metadata": {
        "colab": {
          "base_uri": "https://localhost:8080/"
        },
        "id": "lAUZYwygLtkW",
        "outputId": "8910d855-bbb4-47e3-b2a3-a197415c6ad5"
      },
      "source": [
        "arr = [ 12, 34, 54, 2, 3] \n",
        "\n",
        "shell_sort(arr)"
      ],
      "execution_count": null,
      "outputs": [
        {
          "output_type": "execute_result",
          "data": {
            "text/plain": [
              "[2, 3, 12, 34, 54]"
            ]
          },
          "metadata": {
            "tags": []
          },
          "execution_count": 5
        }
      ]
    },
    {
      "cell_type": "markdown",
      "metadata": {
        "id": "VDjv67ZONnjW"
      },
      "source": [
        "#静岡理工科大学"
      ]
    },
    {
      "cell_type": "markdown",
      "metadata": {
        "id": "OY6siHtfN2T4"
      },
      "source": [
        "###ベアストウ法\n",
        "https://www.sist.ac.jp/~suganuma/Python/example/numerical/bairstow.htm"
      ]
    },
    {
      "cell_type": "markdown",
      "metadata": {
        "id": "7jNLDIkAPv_H"
      },
      "source": [
        "  実係数代数方程式の解（ベアストウ法）\n",
        "  \n",
        "       n : 次数\n",
        "       ct : 最大繰り返し回数\n",
        "       eps : 収束判定条件\n",
        "       p0, q0 : x2+px+qにおけるp,qの初期値\n",
        "       a : 係数（最高次から与え，値は変化する）\n",
        "       b,c : 作業域（(n+1)次の配列）\n",
        "       r : 結果\n",
        "       k : 結果の位置\n",
        "       return : =0 : 正常\n",
        "                =1 : 収束せず\n",
        "       coded by Y.Suganuma"
      ]
    },
    {
      "cell_type": "code",
      "metadata": {
        "id": "xmteBpjsN9vi"
      },
      "source": [
        "def Bairstow(n,ct,eps,p0,q0,a,b,c,r,k):\n",
        "  import numpy as np\n",
        "  p1=p0\n",
        "  p2=0.0\n",
        "  q1=q0\n",
        "  q2=0.0\n",
        "  ind=0\n",
        "  count=0\n",
        "\n",
        "  if n==1:\n",
        "    if np.abs(a[0])<eps:\n",
        "      ind=1\n",
        "    else:\n",
        "      r[k]\n",
        "  elif n==2:\n",
        "    if np.abs(a[0])<eps:\n",
        "      if np.abs(a[1])<eps:\n",
        "        ind=1\n",
        "      else:\n",
        "        r[k]=complex(-a[2]/a[1],0)\n",
        "    else:\n",
        "      D=a[1]*a[1]-4.0*a[0]*a[2]\n",
        "      if D<0.0: \n",
        "        D=np.sqrt(-D)\n",
        "        a[0] *=2.0\n",
        "        r[k]=complex(-a[1]/a[0],D/a[0])\n",
        "        r[k+1]=complex(-a[1]/a[0],-D/a[0])\n",
        "\n",
        "  else:\n",
        "    ind=1\n",
        "    while ind>0 and count<=ct:\n",
        "      for i1 in range(0,n+1):\n",
        "        if i1==0:\n",
        "          b[i1]=a[i1]\n",
        "        elif i1==1:\n",
        "          b[i1]=a[i1]-p1*b[i1-1]\n",
        "        else:\n",
        "          b[i1]=a[i1]-p1*b[i1-1]*q1*b[i1-2]\n",
        "      for i1 in range(0,n+1):\n",
        "        if i1==0:\n",
        "          c[i1]=b[i1]\n",
        "        elif i1==1:\n",
        "          c[i1]=b[i1]-p1*c[i1-1]\n",
        "        else:\n",
        "          c[i1]=b[i1]-p1*c[i1-1]-q1*c[i1-2]\n",
        "      D=c[n-2]*c[n-2]-c[n-3]*(c[n-1]-b[n-1])\n",
        "\n",
        "      if np.fabs(D)<eps:\n",
        "        return ind\n",
        "      else:\n",
        "        dp=(b[n-1]*c[n-2]-b[n]*c[n-3])/D\n",
        "        dq=(b[n]*c[n-2]-b[n-1]*(c[n-1]-b[n-1]))/D\n",
        "        p2=p1+dp\n",
        "        q2=q1+dq\n",
        "        if abs(dp)<eps and np.fabs(dq)<eps:\n",
        "          ind=0\n",
        "        else:\n",
        "          count+=1\n",
        "          p1=p2\n",
        "          q1=q2\n",
        "\n",
        "    if ind==0:\n",
        "      D=p2*p2-4.0*q2\n",
        "      if D<0.0:\n",
        "        D=np.sqrt(-D)\n",
        "        r[k]=complex(-0.5*p2,0.5*D)\n",
        "        r[k+1]=complex(-0.5*p2,-0.5*D)\n",
        "      else:\n",
        "        D=np.sqrt(D)\n",
        "        r[k]=complex(-0.5*(-p2+D),0)\n",
        "        r[k+1]=complex(0.5*(-p2-D),0)\n",
        "      \n",
        "      n-=2\n",
        "      for i1 in range(0,n+1):\n",
        "        a[i1]=b[i1]\n",
        "      ind=Bairstow(n,ct,eps,p0,q0,a,b,c,e,k+2)\n",
        "\n",
        "  return ind\n",
        "      \n"
      ],
      "execution_count": 15,
      "outputs": []
    },
    {
      "cell_type": "code",
      "metadata": {
        "colab": {
          "base_uri": "https://localhost:8080/"
        },
        "id": "hUbAkDczQlTK",
        "outputId": "2b1f8f02-263c-4456-b482-1ab3f8ff8458"
      },
      "source": [
        "ct  = 1000\n",
        "eps = 1.0e-10\n",
        "p0  = 0.0\n",
        "q0  = 0.0\n",
        "n   = 5\n",
        "a   = np.array([1.0, -3.0, -2.0, 3.0, 7.0, 6.0])\n",
        "b   = np.empty(n+1, np.float)\n",
        "c   = np.empty(n+1, np.float)\n",
        "r   = np.empty(n, np.complex)\n",
        "\t\t\t# 計算\n",
        "ind = Bairstow(n, ct, eps, p0, q0, a, b, c, r, 0)\n",
        "\t\t\t# 出力\n",
        "if ind > 0 :\n",
        "\tprint(\"収束しませんでした！\")\n",
        "else :\n",
        "\tfor i1 in range(0, n) :\n",
        "\t\tprint(\"   \" + str(r[i1]))"
      ],
      "execution_count": 16,
      "outputs": [
        {
          "output_type": "stream",
          "text": [
            "収束しませんでした！\n"
          ],
          "name": "stdout"
        },
        {
          "output_type": "stream",
          "text": [
            "/usr/local/lib/python3.7/dist-packages/ipykernel_launcher.py:38: RuntimeWarning: overflow encountered in double_scalars\n",
            "/usr/local/lib/python3.7/dist-packages/ipykernel_launcher.py:45: RuntimeWarning: invalid value encountered in double_scalars\n",
            "/usr/local/lib/python3.7/dist-packages/ipykernel_launcher.py:46: RuntimeWarning: invalid value encountered in double_scalars\n",
            "/usr/local/lib/python3.7/dist-packages/ipykernel_launcher.py:51: RuntimeWarning: invalid value encountered in double_scalars\n",
            "/usr/local/lib/python3.7/dist-packages/ipykernel_launcher.py:52: RuntimeWarning: invalid value encountered in double_scalars\n"
          ],
          "name": "stderr"
        }
      ]
    },
    {
      "cell_type": "code",
      "metadata": {
        "id": "Cc6SpIjjXUxu"
      },
      "source": [
        ""
      ],
      "execution_count": null,
      "outputs": []
    }
  ]
}